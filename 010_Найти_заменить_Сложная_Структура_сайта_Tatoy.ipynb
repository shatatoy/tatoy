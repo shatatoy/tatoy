{
  "nbformat": 4,
  "nbformat_minor": 0,
  "metadata": {
    "colab": {
      "name": "010_Найти_заменить_HTML_или_PHP_Формой!_Хоть_шаблоны_Собирай!!!_!.ipynb",
      "provenance": [],
      "collapsed_sections": [],
      "include_colab_link": true
    },
    "kernelspec": {
      "name": "python3",
      "display_name": "Python 3"
    },
    "language_info": {
      "name": "python"
    }
  },
  "cells": [
    {
      "cell_type": "markdown",
      "metadata": {
        "id": "view-in-github",
        "colab_type": "text"
      },
      "source": [
        "<a href=\"https://colab.research.google.com/github/shatatoy/tatoy/blob/main/010_%D0%9D%D0%B0%D0%B9%D1%82%D0%B8_%D0%B7%D0%B0%D0%BC%D0%B5%D0%BD%D0%B8%D1%82%D1%8C_%D0%A1%D0%BB%D0%BE%D0%B6%D0%BD%D0%B0%D1%8F_%D0%A1%D1%82%D1%80%D1%83%D0%BA%D1%82%D1%83%D1%80%D0%B0_%D1%81%D0%B0%D0%B9%D1%82%D0%B0_Tatoy.ipynb\" target=\"_parent\"><img src=\"https://colab.research.google.com/assets/colab-badge.svg\" alt=\"Open In Colab\"/></a>"
      ]
    },
    {
      "cell_type": "markdown",
      "source": [
        "https://pythonrepo.com/repo/nidhaloff-deep-translator-python-miscellaneous"
      ],
      "metadata": {
        "id": "MWSSGuLPPAIU"
      }
    },
    {
      "cell_type": "code",
      "source": [
        "#@title\n",
        "# from deep_translator import (GoogleTranslator,\n",
        "#                              PonsTranslator,\n",
        "#                              LingueeTranslator,\n",
        "#                              MyMemoryTranslator,\n",
        "#                              YandexTranslator,\n",
        "#                              DeepL,\n",
        "#                              QCRI,\n",
        "#                              single_detection,\n",
        "#                              batch_detection)"
      ],
      "metadata": {
        "id": "ec-E06aePqXa",
        "cellView": "form"
      },
      "execution_count": 1,
      "outputs": []
    },
    {
      "cell_type": "markdown",
      "source": [
        "Сброс пространства имен"
      ],
      "metadata": {
        "id": "Cy3BZysZ81DZ"
      }
    },
    {
      "cell_type": "code",
      "source": [
        "# %reset\n",
        "!$PWD"
      ],
      "metadata": {
        "id": "R7BF696m8fOM",
        "colab": {
          "base_uri": "https://localhost:8080/"
        },
        "outputId": "8cb8ee46-7b11-45ac-c5e1-b9534ad2a02b"
      },
      "execution_count": 2,
      "outputs": [
        {
          "output_type": "stream",
          "name": "stdout",
          "text": [
            "/bin/bash: /var/www: Is a directory\r\n"
          ]
        }
      ]
    },
    {
      "cell_type": "markdown",
      "source": [
        "профилировщик"
      ],
      "metadata": {
        "id": "FTm4Fl3-9m8x"
      }
    },
    {
      "cell_type": "code",
      "source": [
        "#@title\n",
        "if 0:\n",
        "  import numpy as np\n",
        "  def random_walker_max_distance(M, N):\n",
        "      trajectories = [np.random.randn(M).cumsum() for _ in range(N)]\n",
        "      return np.max(np.abs(trajectories))\n",
        "# %prun random_walker_max_distance(400, 10000)"
      ],
      "metadata": {
        "id": "FE71nEvu9XU7",
        "cellView": "form"
      },
      "execution_count": 3,
      "outputs": []
    },
    {
      "cell_type": "markdown",
      "source": [
        "отладчики и в точки ошибок:"
      ],
      "metadata": {
        "id": "DJDJUwwODrUL"
      }
    },
    {
      "cell_type": "code",
      "source": [
        "#@title\n",
        "# Tracer()()\n",
        "# %debug\n",
        "# %pdb  \n",
        "# import pdb; pdb.set_trace()\n",
        "# cм\n",
        "# https://docs.python.org/3/library/pdb.html\n",
        "# %%pixie_debugger вверху ячейки, слева визуал!!!!!!!!!!!!\n"
      ],
      "metadata": {
        "id": "EAN1Rg60xZbx",
        "cellView": "form"
      },
      "execution_count": 4,
      "outputs": []
    },
    {
      "cell_type": "code",
      "source": [
        "#@title\n",
        "# !pip install pixiedust\n",
        "\n",
        "# import contextlib\n",
        "# with contextlib.redirect_stdout(None):\n",
        "#    import pixiedust"
      ],
      "metadata": {
        "id": "wu6-GhSUMVUL",
        "cellView": "form"
      },
      "execution_count": 5,
      "outputs": []
    },
    {
      "cell_type": "markdown",
      "source": [
        "особое исолнение, не разобрался еще, можно ошибаться и  не в текущй памяти всё"
      ],
      "metadata": {
        "id": "PLkjkSa0aTVb"
      }
    },
    {
      "cell_type": "code",
      "source": [
        "#@title\n",
        "# %%pixie_debugger\n",
        "# def find_max (values):\n",
        "#    max = 0\n",
        "#    import pdb; pdb.set_trace()\n",
        "#    for val in values:\n",
        "#       if val > max:\n",
        "#          max = val\n",
        "#    return max"
      ],
      "metadata": {
        "id": "leJxbts9NJ_s",
        "cellView": "form"
      },
      "execution_count": 6,
      "outputs": []
    },
    {
      "cell_type": "markdown",
      "source": [
        "## import"
      ],
      "metadata": {
        "id": "0MVuadDTX9bt"
      }
    },
    {
      "cell_type": "code",
      "source": [
        "#@title\n",
        "# !pip install numpy\n",
        "# !pip install translators\n",
        "# !pip install ipyparallel\n",
        "# !pip install glob # или !pip3 install glob2\n",
        "# !pip install deep_translator"
      ],
      "metadata": {
        "id": "V_wijtORwLIy"
      },
      "execution_count": 7,
      "outputs": []
    },
    {
      "cell_type": "code",
      "source": [
        "# import translators as ts"
      ],
      "metadata": {
        "id": "7rUwOo2pYPRM"
      },
      "execution_count": 8,
      "outputs": []
    },
    {
      "cell_type": "code",
      "source": [
        "import re\n",
        "import os\n",
        "import time\n",
        "# import csv\n",
        "import glob\n",
        "import random\n",
        "# import ipyparallel as ipp\n",
        "# import multiprocessing\n",
        "# from multiprocessing.dummy import Pool as ThreadPool\n",
        "# from deep_translator import GoogleTranslator\n",
        "# from IPython.core.debugger import Tracer #  используй в точке  Tracer()()"
      ],
      "metadata": {
        "id": "skLa_hqXYOKc"
      },
      "execution_count": 9,
      "outputs": []
    },
    {
      "cell_type": "markdown",
      "source": [
        "### %debug\n",
        "в точке запустить отладчик %debug и получить доступ к локальному пространству имен"
      ],
      "metadata": {
        "id": "5Hh5M9928D8U"
      }
    },
    {
      "cell_type": "code",
      "source": [
        "#@title\n",
        "def foo1():\n",
        "  y , x = 1, 3\n",
        "  y / 0\n",
        "  %debug\n",
        "# foo1()"
      ],
      "metadata": {
        "id": "jqen4GCb27vC",
        "cellView": "form"
      },
      "execution_count": 10,
      "outputs": []
    },
    {
      "cell_type": "markdown",
      "source": [
        "debugger nnew\n"
      ],
      "metadata": {
        "id": "3z8UArPowPsS"
      }
    },
    {
      "cell_type": "code",
      "source": [
        "#@title\n",
        "# from IPython.core import debugger\n",
        "# debug = debugger.Pdb().set_trace\n",
        "# def buggy_method():\n",
        "#     debug()"
      ],
      "metadata": {
        "id": "XQXUm_T7so_g",
        "cellView": "form"
      },
      "execution_count": 11,
      "outputs": []
    },
    {
      "cell_type": "markdown",
      "source": [
        "# HTML или PHP ????????????????????????????????????????????????"
      ],
      "metadata": {
        "id": "aDJlw-AXfk7-"
      }
    },
    {
      "cell_type": "code",
      "source": [
        "dicto = {} #когда обнуление в конце, можно цикл прерывать и продолжать ;)"
      ],
      "metadata": {
        "id": "hdxEABfcssFf"
      },
      "execution_count": 12,
      "outputs": []
    },
    {
      "cell_type": "code",
      "source": [
        "# стопэ"
      ],
      "metadata": {
        "id": "TpUybbsi0dax"
      },
      "execution_count": 13,
      "outputs": []
    },
    {
      "cell_type": "code",
      "source": [
        "# number = 33  #@param {type: \"number\"}\n",
        "# chto = \"\\\"../ssi-php/rotator-unical2.php\" #@param {type: \"string\"}\n",
        "# nachto = \"\\\"http://localhost{root_cat}/ssi-php/rotator-unical2.php\" #@param {type: \"string\"}\n",
        "files = 'php' #@param ['html','php','js']"
      ],
      "metadata": {
        "id": "phczCbgR0d7S"
      },
      "execution_count": 14,
      "outputs": []
    },
    {
      "cell_type": "markdown",
      "source": [
        "# ! шаблоны собирай"
      ],
      "metadata": {
        "id": "kmSuVnWZIbSB"
      }
    },
    {
      "cell_type": "code",
      "source": [
        "# chto = '''if (!file_exists($cache0) or filesize($cache0) < 2000) { $x++; continue; }'''\n",
        "\n",
        "# nachto='''if (!file_exists($cache0) or filesize($cache0) < 2000) {\n",
        "# \t\t$datem1 = date(\"d-m-Y.18\", time() - 86400 * $x);\n",
        "# \t\t$cache0 = \"/var/www/kurs-dollara.net/cache2/\" . $datem0 . $datem1 . \".json\";\n",
        "# \t}\n",
        "# \tif (!file_exists($cache0) or filesize($cache0) < 2000) {\n",
        "# \t\t$datem1 = date(\"d-m-Y.12\", time() - 86400 * $x);\n",
        "# \t\t$cache0 = \"/var/www/kurs-dollara.net/cache2/\" . $datem0 . $datem1 . \".json\";\n",
        "# \t}\n",
        "# \tif (!file_exists($cache0) or filesize($cache0) < 2000) { $x++; continue; }'''"
      ],
      "metadata": {
        "id": "lZecV6SyIZKO"
      },
      "execution_count": 15,
      "outputs": []
    },
    {
      "cell_type": "code",
      "source": [
        "# chto = '''if (($gettime >= $timetek2 - 126144000) && $gettime < $timetek2 && date(\"s\") > 0)'''\n",
        "\n",
        "# nachto='''$timetek2 = time(); \n",
        "# if (($gettime >= $timetek2 - 126144000) && $gettime < $timetek2 && date(\"s\") > 0)'''"
      ],
      "metadata": {
        "id": "Spu__nmn0mcI"
      },
      "execution_count": 16,
      "outputs": []
    },
    {
      "cell_type": "code",
      "source": [
        "# files = 'php' # files = 'html' # files = 'js'"
      ],
      "metadata": {
        "id": "sao1xEyTVtqT"
      },
      "execution_count": 17,
      "outputs": []
    },
    {
      "cell_type": "code",
      "source": [
        "files = 'php' #@param ['html','php','js']"
      ],
      "metadata": {
        "id": "4xutBEv9IkVP"
      },
      "execution_count": 18,
      "outputs": []
    },
    {
      "cell_type": "code",
      "source": [
        "q = 0\n",
        "# lang_arr = ['en-US','af','am','ar','az','be','bg','bn','bs','ca','ceb','co','cs','cy','da','de','el','en','eo','es','et','eu','fa','fi','fr','fy','ga','gd','gl','gu','ha','haw','hi','hmn','hr','ht','hu','hy','id','ig','is','it','iw','ja','jw','ka','kk','km','kn','ko','ku','ky','la','lb','lo','lt','lv','mg','mi','mk','ml','mn','mr','ms','mt','my','ne','nl','no','ny','or','pa','pl','ps','pt','ro','rw','sd','si','sk','sl','sm','sn','so','sq','sr','st','su','sv','sw','ta','te','tg','th','tk','tl','tr','tt','ug','uk','ur','uz','vi','xh','yi','yo','zh-CN','zh-TW','zu']\n",
        "# lang_arr = ['image','images','inc','inc3','ssi-php','dollara-kurs','dollar-rate','kurs-d','kurs-dollara','kurs-evro','kursi-valyut','kurs-rublya','kurs-rublya-evro','kursy-valyut']\n",
        "# lang_arr = ['ru','en-US','af','am','ar','az','be','bg','bn','bs','ca','ceb','co','cs','cy','da','de','el','en','eo','es','et','eu','fa','fi','fr','fy','ga','gd','gl','gu','ha','haw','hi','hmn','hr','ht','hu','hy','id','ig','is','it','iw','ja','jw','ka','kk','km','kn','ko','ku','ky','la','lb','lo','lt','lv','mg','mi','mk','ml','mn','mr','ms','mt','my','ne','nl','no','ny','or','pa','pl','ps','pt','ro','rw','sd','si','sk','sl','sm','sn','so','sq','sr','st','su','sv','sw','ta','te','tg','th','tk','tl','tr','tt','ug','uk','ur','uz','vi','xh','yi','yo','zh-CN','zh-TW','zu']\n",
        "lang_arr = ['konverter-valyut','image','images','inc','inc3','ssi-php','dollara-kurs','dollar-rate','kurs-d','kurs-dollara','kurs-evro','kursi-valyut','kurs-rublya','kurs-rublya-evro','kursy-valyut','ru','en-US','af','am','ar','az','be','bg','bn','bs','ca','ceb','co','cs','cy','da','de','el','en','eo','es','et','eu','fa','fi','fr','fy','ga','gd','gl','gu','ha','haw','hi','hmn','hr','ht','hu','hy','id','ig','is','it','iw','ja','jw','ka','kk','km','kn','ko','ku','ky','la','lb','lo','lt','lv','mg','mi','mk','ml','mn','mr','ms','mt','my','ne','nl','no','ny','or','pa','pl','ps','pt','ro','rw','sd','si','sk','sl','sm','sn','so','sq','sr','st','su','sv','sw','ta','te','tg','th','tk','tl','tr','tt','ug','uk','ur','uz','vi','xh','yi','yo','zh-CN','zh-TW','zu']\n",
        "\n",
        "for root_cat in lang_arr:\n",
        "\n",
        "  sourse = '/var/www/kurs-dollara.net/ru'\n",
        "  destina = '/var/www/kurs-dollara.net/' + root_cat\n",
        "\n",
        "  for filepath in glob.iglob('/var/www/kurs-dollara.net/' + root_cat + '/**/*.' + files, recursive=True):\n",
        "    with open(filepath) as file:\n",
        "      # print('\\n' + filepath, end = '')\n",
        "      try:\n",
        "        text = file.read()\n",
        "      except Exception as eq:\n",
        "        print(f' no {eq}', end = \"\")\n",
        "        continue\n",
        "    # if \"donne\" in text:\n",
        "    #   print(' .. пропускаю, в файле - \"donne\", уже обработан', end = ' ')\n",
        "    #   continue\n",
        "\n",
        "    if len(text) < 1 or text=='\\n' or text=='  ' or text==' ':\n",
        "      # print(f'делаю continue; len(text) < 1: {len(text)}')\n",
        "      print(f' m{len(text)}', end = \"\")\n",
        "      continue\n",
        "    # chto = '''\"locale\": \"kurs-dollara\"'''\n",
        "    # chto=f'''\"locale\": \"{root_cat}\"'''\n",
        "    # chto = '''if ($_GET) include $addr3. $_GET[\"na\"];'''\n",
        "    # # chto = f'../ssi-php/rotator-unical2.php'\n",
        "    # # # chto=f'http://localhost{root_cat}/ssi-php/rotator-unical2.php'\n",
        "    # # nachto=f'http://localhost/{root_cat}/ssi-php/rotator-unical2.php'\n",
        "    # # chto = f'virtual=\"/{root_cat}/cache'\n",
        "    # # chto = '''RUB CB'''\n",
        "    # # # chto='''https://localhost'''\n",
        "    # nachto='''if ($_GET and array_key_exists(\"na\", $_GET)) include $addr3. $_GET[\"na\"];'''\n",
        "    # chto = '#include virtual='/'\n",
        "    # nachto = f'<!--#include virtual=\"/{root_cat}/'\n",
        "    if chto in text:\n",
        "      print('\\n' + filepath, end = '')\n",
        "      # text = re.sub(chto, nachto, text)\n",
        "      text = text.replace(chto, nachto)\n",
        "\n",
        "      with open(filepath, \"w\") as file:\n",
        "          file.write(text)\n",
        "      q = q+1\n",
        "\n",
        "print(f'\\nЗаменил {chto} на {nachto} в {q} файлах')"
      ],
      "metadata": {
        "id": "JEYOarsWi0_h"
      },
      "execution_count": null,
      "outputs": []
    },
    {
      "cell_type": "code",
      "source": [
        "# text\n",
        "!PWD # !$USER"
      ],
      "metadata": {
        "id": "crY--0dato3y",
        "colab": {
          "base_uri": "https://localhost:8080/"
        },
        "outputId": "4a87496a-edf2-421c-93a2-cd419263e973"
      },
      "execution_count": 20,
      "outputs": [
        {
          "output_type": "stream",
          "name": "stdout",
          "text": [
            "/bin/bash: PWD: command not found\r\n"
          ]
        }
      ]
    },
    {
      "cell_type": "code",
      "source": [
        "!cd /home/ubuntu/\n",
        "!ls"
      ],
      "metadata": {
        "colab": {
          "base_uri": "https://localhost:8080/"
        },
        "id": "zoRbEK1nx6SS",
        "outputId": "ec708e32-b22b-406a-fdd7-73f2faaf28c6"
      },
      "execution_count": 21,
      "outputs": [
        {
          "output_type": "stream",
          "name": "stdout",
          "text": [
            "html\r\n",
            "kurs-dollara.net\r\n",
            "kurs-dollara.net-\r\n",
            "kurs-dollara19_Ok_do_traffik_to_local_loop.zip\r\n",
            "kurs-dollara21_error.zip\r\n",
            "kurs-dollara22_loop_over_localhost.zip\r\n",
            "kurs-dollara23_locale_js_not_ru.zip\r\n",
            "kurs-dollara25_locale_js_not_ru.zip\r\n",
            "kurs-dollara26_locale_js_not_ru.zip\r\n",
            "kurs-dollara29.zip\r\n",
            "kurs-dollara30.zip\r\n",
            "kurs-dollara32.zip\r\n",
            "kurs-dollara33.zip\r\n",
            "kurs-dollara34.zip\r\n",
            "kurs-dollara35.zip\r\n"
          ]
        }
      ]
    },
    {
      "cell_type": "markdown",
      "source": [
        "### Если вывалился можно сохранить вручную:\n"
      ],
      "metadata": {
        "id": "weTRIMepbA1u"
      }
    },
    {
      "cell_type": "code",
      "source": [
        "%who # !whoami # !echo $USER"
      ],
      "metadata": {
        "id": "b7_dMu4EEhBM",
        "colab": {
          "base_uri": "https://localhost:8080/"
        },
        "outputId": "9097ad41-52a3-4136-8c93-b857e4dda297"
      },
      "execution_count": 22,
      "outputs": [
        {
          "output_type": "stream",
          "name": "stdout",
          "text": [
            "No variables match your requested type.\n"
          ]
        }
      ]
    },
    {
      "cell_type": "markdown",
      "source": [
        "### Выхлоп"
      ],
      "metadata": {
        "id": "J_V1xz9fHg8h"
      }
    },
    {
      "cell_type": "code",
      "source": [
        "#@title\n",
        "if 0:\n",
        "  for root_cat in lang_arr:\n",
        "    sourse = '/var/www/kurs-dollara.net/ru'\n",
        "    destina = '/var/www/kurs-dollara.net/' + lang\n",
        "    if os.path.exists(destina):\n",
        "      print(destina + \" уже существует или скопирована\")\n",
        "    else:\n",
        "      os.system(\"cp -r \" + sourse + \" \" + destina)\n",
        "      print(destina + \" скопировано\")"
      ],
      "metadata": {
        "id": "HVQvdAvczCEb"
      },
      "execution_count": 23,
      "outputs": []
    },
    {
      "cell_type": "code",
      "source": [
        "#@title\n",
        "if 0:\n",
        "\n",
        "  dict_sample = {'name': 'LinuxHint', 'city': 'CA', 'education': 'Engineering'}\n",
        "\n",
        "  with open('data.csv', 'w') as f:\n",
        "      for key in dict_sample.keys():\n",
        "          f.write(\"%s; %s\\n\" %(key, dict_sample[key]))\n",
        "\n",
        "  mydict = {y[0]: y[1] for y in [x.split(\"; \") for x in open('data.csv').read().split('\\n') if x]}\n",
        "  mydict"
      ],
      "metadata": {
        "id": "DHsrt9Cje3N3",
        "cellView": "form"
      },
      "execution_count": 24,
      "outputs": []
    },
    {
      "cell_type": "markdown",
      "source": [
        "  Ниже - Кривой Источник\n",
        "   но мой транслятор = было тоже Оч Шустро"
      ],
      "metadata": {
        "id": "8RW_vHK10AWo"
      }
    },
    {
      "cell_type": "code",
      "source": [
        "#@title\n",
        "if 0:\n",
        "  # !pip install google_trans_new\n",
        "  # from google_trans_new import google_translator \n",
        "  from multiprocessing.dummy import Pool as ThreadPool\n",
        "  import time\n",
        "  pool = ThreadPool(8) # Threads\n",
        "\n",
        "  def trans_sente_to_dicto(text):\n",
        "    translate_text = GoogleTranslator('en','ru').translate(text)\n",
        "    return translate_text\n",
        "    \n",
        "\n",
        "  if __name__ == \"__main__\" :\n",
        "      time1 = time.time()\n",
        "      with open(\"./en-US.csv\",'r') as f_p:\n",
        "        texts = f_p.readlines()\n",
        "        try:\n",
        "            results = pool.map(trans_sente_to_dicto, texts)\n",
        "        except Exception as eee:\n",
        "            raise eee\n",
        "        pool.close()\n",
        "        pool.join()\n",
        "\n",
        "        time2 = time.time()\n",
        "        print(\"Translating %s sentences, a total of %s s\"%(len(texts),time2 - time1))\n",
        "  results"
      ],
      "metadata": {
        "id": "pIitIBPUt5RL",
        "cellView": "form"
      },
      "execution_count": 25,
      "outputs": []
    },
    {
      "cell_type": "code",
      "source": [
        "# Out"
      ],
      "metadata": {
        "id": "SJxco4bgj6lo"
      },
      "execution_count": 26,
      "outputs": []
    },
    {
      "cell_type": "code",
      "source": [
        "# In"
      ],
      "metadata": {
        "id": "OdGqjum6j7rW"
      },
      "execution_count": 27,
      "outputs": []
    },
    {
      "cell_type": "code",
      "source": [
        "%who"
      ],
      "metadata": {
        "id": "VyOeid5Dmrs4",
        "colab": {
          "base_uri": "https://localhost:8080/"
        },
        "outputId": "4bd552fd-baf7-4e2b-d9c4-4a1f83338819"
      },
      "execution_count": 28,
      "outputs": [
        {
          "output_type": "stream",
          "name": "stdout",
          "text": [
            "chto\t destina\t dicto\t file\t filepath\t files\t foo1\t glob\t lang_arr\t \n",
            "nachto\t os\t q\t random\t re\t root_cat\t sourse\t text\t time\t \n",
            "\n"
          ]
        }
      ]
    }
  ]
}